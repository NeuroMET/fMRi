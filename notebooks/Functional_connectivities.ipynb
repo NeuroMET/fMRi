{
 "cells": [
  {
   "cell_type": "code",
   "execution_count": null,
   "id": "18a36347-f6b3-4bec-823e-43c0a93aeed7",
   "metadata": {},
   "outputs": [],
   "source": [
    "from nilearn import datasets\n",
    "import pandas as pd\n",
    "import numpy as np\n",
    "from nilearn import datasets\n",
    "from nilearn import plotting\n",
    "import os\n",
    "import glob\n",
    "from joblib import Parallel, delayed\n",
    "from nilearn.connectome import ConnectivityMeasure\n",
    "from nilearn.interfaces.fmriprep import load_confounds\n",
    "from nilearn.maskers import NiftiLabelsMasker, MultiNiftiLabelsMasker\n",
    "import pandas as pd\n",
    "import warnings\n",
    "warnings.filterwarnings('ignore')"
   ]
  },
  {
   "cell_type": "code",
   "execution_count": null,
   "id": "38e224d9-bae4-471c-a738-c5d6d50b6345",
   "metadata": {},
   "outputs": [],
   "source": [
    "## Set fMRIprep Directory"
   ]
  },
  {
   "cell_type": "code",
   "execution_count": null,
   "id": "e5607e34-2754-4058-ac3b-c354ebe80015",
   "metadata": {},
   "outputs": [],
   "source": [
    "fmriprep_dir = ''\n",
    "nil_data_dir = os.path.join(os.getcwd(), 'nilearn_data')"
   ]
  },
  {
   "cell_type": "markdown",
   "id": "32ace06f-c707-42dd-aefc-fccc717e9845",
   "metadata": {},
   "source": [
    "## Load Atlas"
   ]
  },
  {
   "cell_type": "code",
   "execution_count": null,
   "id": "75eafc39-dd97-4f51-aa41-d5c7c1ca6e3a",
   "metadata": {},
   "outputs": [],
   "source": [
    "from nilearn import datasets\n",
    "atlas = datasets.fetch_atlas_schaefer_2018(n_rois=400, \n",
    "                                           yeo_networks=7, \n",
    "                                           resolution_mm=1, \n",
    "                                           data_dir=None,\n",
    "                                           base_url=None, \n",
    "                                           resume=True,\n",
    "                                           data_dir=nil_data_dir\n",
    "                                           verbose=1)"
   ]
  },
  {
   "cell_type": "code",
   "execution_count": null,
   "id": "e99b3d24-2f3c-4507-a9f2-6156d6ab166f",
   "metadata": {},
   "outputs": [],
   "source": [
    "import nibabel as nib\n",
    "nii = nib.load('{}/schaefer_2018/Schaefer2018_400Parcels_7Networks_order_FSLMNI152_1mm.nii.gz'.format(nil_data_dir))\n",
    "nii_arr = nii.get_fdata()"
   ]
  },
  {
   "cell_type": "code",
   "execution_count": null,
   "id": "3cfdb1f6-8ddd-40a4-8e02-24317f42fff5",
   "metadata": {},
   "outputs": [],
   "source": [
    "# Loading atlas image stored in 'maps'\n",
    "atlas_filename = atlas['maps']\n",
    "# Loading atlas data stored in 'labels'\n",
    "labels = atlas['labels']"
   ]
  },
  {
   "cell_type": "code",
   "execution_count": null,
   "id": "900c9add-e1c0-4fe9-863c-de6d00c40416",
   "metadata": {},
   "outputs": [],
   "source": [
    "plotting.plot_roi(atlas_filename, title=\"Schaefer Atlas\")\n",
    "plotting.show()"
   ]
  },
  {
   "cell_type": "markdown",
   "id": "ebcf8129-6720-4189-912c-cfbba1386241",
   "metadata": {},
   "source": [
    "## Connectivity Matrices"
   ]
  },
  {
   "cell_type": "code",
   "execution_count": null,
   "id": "1a4dc30e-8420-485f-9f7d-7fa8a80dc464",
   "metadata": {},
   "outputs": [],
   "source": [
    "%%time\n",
    "bolds = glob.glob('{}/*/ses-0*/func/*_ses-*_task-rest_space-MNI152NLin2009cAsym_desc-preproc_bold.nii.gz'.format(fmriprep_dir)\n",
    "bolds = [i for i in bolds if not 'NeuroMET074' in i] # Exclude one subject\n",
    "sids = [i.split('/')[-4] for i in bolds]\n",
    "ses = [i.split('/')[-3] for i in bolds]\n",
    "correlation_measure = ConnectivityMeasure(kind='correlation')\n",
    "masker = MultiNiftiLabelsMasker(atlas_filename, \n",
    "                         memory=os.path.join(nil_data_dir, 'schaefer_atlas'), \n",
    "                         standardize='zscore_sample',\n",
    "                        smoothing_fwhm=6,\n",
    "                         low_pass=0.1,\n",
    "                         high_pass=0.008,\n",
    "                         t_r=2.2,\n",
    "                        memory_level=5)\n",
    "confounds_simples, sample_masks = load_confounds(\n",
    "            bolds, \n",
    "            strategy=['motion', 'compcor', 'scrub', 'global_signal', 'high_pass'],\n",
    "            motion = 'full', global_signal='full', \n",
    "            scrub=0, compcor='anat_separated', n_compcor=5,\n",
    "            ica_aroma='basic')\n",
    "bolds_tmp = bolds\n",
    "time_series_list = masker.fit_transform(bolds_tmp, confounds=confounds_simples)\n",
    "cor_mat_tmp = correlation_measure.fit_transform(time_series_list)\n",
    "#correlation_matrices.append(cor_mat_tmp)\n",
    "np.savez('./matrices_ses-all_schaefer2018.npz', mats = cor_mat_tmp, sids = sids, ses=ses)\n",
    "del(time_series_list)\n",
    "for n,i in enumerate(cor_mat_tmp):\n",
    "    print(sids[n])\n",
    "    plotting.plot_matrix(i.squeeze())\n",
    "    plotting.show()"
   ]
  },
  {
   "cell_type": "markdown",
   "id": "8aae8291-8b34-41ab-a84a-abee1f74991e",
   "metadata": {},
   "source": [
    "## Networks' average functional Connectivity"
   ]
  },
  {
   "cell_type": "markdown",
   "id": "a14a5d34-6500-4e45-913c-96e84f51a5dd",
   "metadata": {},
   "source": [
    "### grab labels' indices for each network"
   ]
  },
  {
   "cell_type": "code",
   "execution_count": null,
   "id": "5a11c603-e129-40be-a944-4b3e03337f53",
   "metadata": {},
   "outputs": [],
   "source": [
    "import re\n",
    "labelsd = np.char.decode(labels)\n",
    "nets = set([re.search(r'7Networks_[LR]H_([^_]*)_.*',i.decode()).group(1) for i in labels])\n",
    "nets"
   ]
  },
  {
   "cell_type": "code",
   "execution_count": null,
   "id": "e0c19bcd-5c10-4e17-b294-3597c8db6a51",
   "metadata": {},
   "outputs": [],
   "source": [
    "net_dict = dict()\n",
    "for i in nets:\n",
    "    net_dict[i] = []"
   ]
  },
  {
   "cell_type": "code",
   "execution_count": null,
   "id": "6a86f7e8-750e-4f82-8386-c6801a2efc12",
   "metadata": {},
   "outputs": [],
   "source": [
    "for n,i in enumerate(labelsd):\n",
    "    for net in nets:\n",
    "        if net in i:\n",
    "            net_dict[net].append(n)"
   ]
  },
  {
   "cell_type": "code",
   "execution_count": null,
   "id": "1f171585-f122-494f-ad25-31d0519c3b17",
   "metadata": {},
   "outputs": [],
   "source": [
    "len(cor_mat_tmp)"
   ]
  },
  {
   "cell_type": "markdown",
   "id": "d68e2dc4-11e5-4ad6-a26a-d21e797a1ab4",
   "metadata": {},
   "source": [
    "### Average functional connectivity averages"
   ]
  },
  {
   "cell_type": "code",
   "execution_count": null,
   "id": "ef30b288-0452-48e7-932d-2f5102442110",
   "metadata": {},
   "outputs": [],
   "source": [
    "conns = []\n",
    "for n,mat in enumerate(cor_mat_tmp):\n",
    "    conn_dict = dict()\n",
    "    conn_dict['sids'] = sids[n]\n",
    "    conn_dict['ses'] = ses[n]\n",
    "    for i in nets:\n",
    "        #print(net_dict[i])\n",
    "        submat = mat[net_dict[i],:][:,net_dict[i]]\n",
    "        submat_tril = np.tril(submat, k=-1)\n",
    "        #submat_tril_thr = np.where(submat_tril <0, 0, submat_tril)\n",
    "        submat_tril[np.triu_indices(submat_tril.shape[0],0)] = np.nan\n",
    "        submat_tril_thr = np.where(submat_tril <0, 0, submat_tril)\n",
    "        conn_dict[i] = np.nanmean(submat_tril_thr[submat_tril_thr>0])\n",
    "    \n",
    "    conns.append(conn_dict)\n",
    "    "
   ]
  },
  {
   "cell_type": "code",
   "execution_count": null,
   "id": "ae53df71-f2fc-41e2-af13-c66794c3c9bb",
   "metadata": {
    "tags": []
   },
   "outputs": [],
   "source": []
  },
  {
   "cell_type": "code",
   "execution_count": null,
   "id": "830ec398-9d5d-4836-a6ef-73054c710e94",
   "metadata": {},
   "outputs": [],
   "source": [
    "pd.DataFrame(conns)"
   ]
  },
  {
   "cell_type": "code",
   "execution_count": null,
   "id": "cad64e53-bfd4-401f-b3cb-5cf91750d3b6",
   "metadata": {},
   "outputs": [],
   "source": [
    "pd.DataFrame(conns).to_csv('conns.csv', sep=';', index=False)"
   ]
  },
  {
   "cell_type": "code",
   "execution_count": null,
   "id": "698d5095-f7cf-4a3c-b0c4-aa6bdc4996bc",
   "metadata": {},
   "outputs": [],
   "source": []
  },
  {
   "cell_type": "code",
   "execution_count": null,
   "id": "314cbcaa-2735-491c-8d03-aefe1baa5ae1",
   "metadata": {},
   "outputs": [],
   "source": []
  }
 ],
 "metadata": {
  "kernelspec": {
   "display_name": "Python 3 (ipykernel)",
   "language": "python",
   "name": "python3"
  },
  "language_info": {
   "codemirror_mode": {
    "name": "ipython",
    "version": 3
   },
   "file_extension": ".py",
   "mimetype": "text/x-python",
   "name": "python",
   "nbconvert_exporter": "python",
   "pygments_lexer": "ipython3",
   "version": "3.11.0"
  }
 },
 "nbformat": 4,
 "nbformat_minor": 5
}
